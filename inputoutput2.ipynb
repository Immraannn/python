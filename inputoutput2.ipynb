{
 "cells": [
  {
   "cell_type": "code",
   "execution_count": 6,
   "id": "4ea59e36-6f76-432d-9a10-b13e644fa033",
   "metadata": {},
   "outputs": [
    {
     "name": "stdout",
     "output_type": "stream",
     "text": [
      "The value of a is5 and b is 10\n",
      "helloimran, Good morning\n"
     ]
    }
   ],
   "source": [
    "#output formatting\n",
    "a=5 ;b=10\n",
    "print(\"The value of a is{} and b is {}\".format(a,b))\n",
    "print(\"hello{name}, {greeting}\".format(name=\"imran\",greeting=\"Good morning\"))"
   ]
  },
  {
   "cell_type": "code",
   "execution_count": 11,
   "id": "1e4b5481-8aae-4f70-b758-3b0dd98920ad",
   "metadata": {},
   "outputs": [
    {
     "name": "stdin",
     "output_type": "stream",
     "text": [
      "Enter the number 1\n",
      "enter the string hello imran\n",
      "enter the list 12 hello hii\n"
     ]
    },
    {
     "name": "stdout",
     "output_type": "stream",
     "text": [
      "1\n",
      "hello imran\n",
      "12 hello hii\n"
     ]
    }
   ],
   "source": [
    "#input formatting\n",
    "num=input(\"Enter the number\")\n",
    "string=input(\"enter the string\")\n",
    "lisst=input(\"enter the list\")\n",
    "print(num)\n",
    "print(string)\n",
    "print(lisst)"
   ]
  },
  {
   "cell_type": "code",
   "execution_count": null,
   "id": "6d2a9626-44a3-4e8e-a33a-25b166d30362",
   "metadata": {},
   "outputs": [],
   "source": []
  }
 ],
 "metadata": {
  "kernelspec": {
   "display_name": "Python [conda env:base] *",
   "language": "python",
   "name": "conda-base-py"
  },
  "language_info": {
   "codemirror_mode": {
    "name": "ipython",
    "version": 3
   },
   "file_extension": ".py",
   "mimetype": "text/x-python",
   "name": "python",
   "nbconvert_exporter": "python",
   "pygments_lexer": "ipython3",
   "version": "3.13.5"
  }
 },
 "nbformat": 4,
 "nbformat_minor": 5
}
