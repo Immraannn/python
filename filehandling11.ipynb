{
 "cells": [
  {
   "cell_type": "code",
   "execution_count": 32,
   "id": "5d32ae20-9350-4432-8f60-5f24b114e67d",
   "metadata": {},
   "outputs": [
    {
     "data": {
      "text/plain": [
       "'This is secind lime'"
      ]
     },
     "execution_count": 32,
     "metadata": {},
     "output_type": "execute_result"
    }
   ],
   "source": [
    "f=open('file1.txt','r')#it wil read existing file\n",
    "f.read()"
   ]
  },
  {
   "cell_type": "code",
   "execution_count": 10,
   "id": "f2eaccca-4364-46a6-a1e4-b3bad092e328",
   "metadata": {},
   "outputs": [
    {
     "data": {
      "text/plain": [
       "'Here we hvae created a file'"
      ]
     },
     "execution_count": 10,
     "metadata": {},
     "output_type": "execute_result"
    }
   ],
   "source": [
    "f=open('imran01.txt','w')\n",
    "f.write('Here we hvae created a file')\n",
    "f=open('imran01.txt','r')\n",
    "f.read()\n"
   ]
  },
  {
   "cell_type": "code",
   "execution_count": 48,
   "id": "e4078dbe-b742-46b0-a677-99d8a5457e72",
   "metadata": {},
   "outputs": [
    {
     "data": {
      "text/plain": [
       "'This is secind lime'"
      ]
     },
     "execution_count": 48,
     "metadata": {},
     "output_type": "execute_result"
    }
   ],
   "source": [
    "f=open('file1.txt','r')\n",
    "f.read()"
   ]
  },
  {
   "cell_type": "code",
   "execution_count": 66,
   "id": "e0a47799-3034-4e7e-be5c-06a0ba7a321c",
   "metadata": {},
   "outputs": [
    {
     "data": {
      "text/plain": [
       "' hello imran\\n hello faizan'"
      ]
     },
     "execution_count": 66,
     "metadata": {},
     "output_type": "execute_result"
    }
   ],
   "source": [
    "f=open('imran01.txt','w')\n",
    "f.write(' hello imran\\n')\n",
    "f.write(' hello faizan')\n",
    "f=open('imran01.txt','r')\n",
    "f.read()"
   ]
  },
  {
   "cell_type": "code",
   "execution_count": 68,
   "id": "abc56ba9-1ec0-427d-8f81-2c4f82a3fada",
   "metadata": {},
   "outputs": [
    {
     "data": {
      "text/plain": [
       "27"
      ]
     },
     "execution_count": 68,
     "metadata": {},
     "output_type": "execute_result"
    }
   ],
   "source": [
    "f=open('imran01.txt','w')\n",
    "f.write(' hello imran\\n')\n",
    "f.write(' hello faizan')\n",
    "f=open('imran01.txt','r')\n",
    "f.read()\n",
    "f.tell()"
   ]
  },
  {
   "cell_type": "code",
   "execution_count": 69,
   "id": "f0ccd9eb-3d72-418d-b238-632a4cdefe0d",
   "metadata": {},
   "outputs": [
    {
     "data": {
      "text/plain": [
       "14"
      ]
     },
     "execution_count": 69,
     "metadata": {},
     "output_type": "execute_result"
    }
   ],
   "source": [
    "f=open('imran01.txt','w')\n",
    "f.write(' hello imran\\n')\n",
    "f.write(' hello faizan')\n",
    "f=open('imran01.txt','r')\n",
    "f.readline()\n",
    "f.tell()"
   ]
  },
  {
   "cell_type": "code",
   "execution_count": 70,
   "id": "5be50429-9b95-4a69-b9d8-f97c24c0d902",
   "metadata": {},
   "outputs": [
    {
     "data": {
      "text/plain": [
       "' hello imran\\n'"
      ]
     },
     "execution_count": 70,
     "metadata": {},
     "output_type": "execute_result"
    }
   ],
   "source": [
    "f=open('imran01.txt','w')\n",
    "f.write(' hello imran\\n')\n",
    "f.write(' hello faizan')\n",
    "f=open('imran01.txt','r')\n",
    "f.readline()"
   ]
  },
  {
   "cell_type": "code",
   "execution_count": 71,
   "id": "8b4574be-1bf3-42e5-b9f5-411ec51eb613",
   "metadata": {},
   "outputs": [
    {
     "name": "stdout",
     "output_type": "stream",
     "text": [
      " hello imran\n",
      "\n",
      " hello faizan\n"
     ]
    }
   ],
   "source": [
    "f=open('imran01.txt','w')\n",
    "f.write(' hello imran\\n')\n",
    "f.write(' hello faizan')\n",
    "f=open('imran01.txt','r')\n",
    "f.readline()\n",
    "f.seek(0)\n",
    "for line in f:\n",
    "    print(line)"
   ]
  },
  {
   "cell_type": "code",
   "execution_count": 72,
   "id": "a77c3e1a-57f8-42e2-a4a9-564840c112e4",
   "metadata": {},
   "outputs": [
    {
     "name": "stdout",
     "output_type": "stream",
     "text": [
      " hello imran\n",
      "\n",
      " hello faizan\n"
     ]
    }
   ],
   "source": [
    "f=open('imran01.txt','w')\n",
    "f.write(' hello imran\\n')\n",
    "f.write(' hello faizan')\n",
    "f=open('imran01.txt','r')\n",
    "f.seek(0)\n",
    "for line in f:\n",
    "    print(line)"
   ]
  },
  {
   "cell_type": "code",
   "execution_count": 75,
   "id": "5718472e-cc4d-453d-8c7a-90c3a85ae2f8",
   "metadata": {},
   "outputs": [
    {
     "name": "stdout",
     "output_type": "stream",
     "text": [
      "ello faizan\n"
     ]
    }
   ],
   "source": [
    "f=open('imran01.txt','w')\n",
    "f.write(' hello imran\\n')\n",
    "f.write(' hello faizan')\n",
    "f=open('imran01.txt','r')\n",
    "f.seek(16)\n",
    "for line in f:\n",
    "    print(line)"
   ]
  },
  {
   "cell_type": "code",
   "execution_count": 1,
   "id": "45e8825e-054c-4052-99dd-0c2e0b953dca",
   "metadata": {},
   "outputs": [
    {
     "data": {
      "text/plain": [
       "'This is secind lime'"
      ]
     },
     "execution_count": 1,
     "metadata": {},
     "output_type": "execute_result"
    }
   ],
   "source": [
    "#chNAGING FILE Nme module\n",
    "import os\n",
    "os.rename('file1.txt','sample01.txt')\n",
    "f=open('sample01.txt','r')\n",
    "f.read()\n",
    "#os.remove('file name') to delete file"
   ]
  },
  {
   "cell_type": "code",
   "execution_count": 5,
   "id": "4cb3d1a8-5c84-40a0-adfd-5821f56df886",
   "metadata": {},
   "outputs": [
    {
     "data": {
      "text/plain": [
       "'C:\\\\Users\\\\Lenovo\\\\python'"
      ]
     },
     "execution_count": 5,
     "metadata": {},
     "output_type": "execute_result"
    }
   ],
   "source": [
    "import os\n",
    "os.getcwd()"
   ]
  },
  {
   "cell_type": "code",
   "execution_count": 8,
   "id": "b479f7be-8067-43e8-a958-f9be09890184",
   "metadata": {},
   "outputs": [
    {
     "data": {
      "text/plain": [
       "'C:\\\\Users\\\\Lenovo\\\\python'"
      ]
     },
     "execution_count": 8,
     "metadata": {},
     "output_type": "execute_result"
    }
   ],
   "source": [
    "import os\n",
    "f=open('sample01.txt','r')\n",
    "f.read()\n",
    "os.getcwd()"
   ]
  },
  {
   "cell_type": "code",
   "execution_count": 33,
   "id": "2db3c333-9bfc-4f56-954a-6fe5c15d5558",
   "metadata": {},
   "outputs": [
    {
     "data": {
      "text/plain": [
       "'C:\\\\Users\\\\Lenovo\\\\python'"
      ]
     },
     "execution_count": 33,
     "metadata": {},
     "output_type": "execute_result"
    }
   ],
   "source": [
    "import os\n",
    "f=open('imran.txt','r')\n",
    "f.read()\n",
    "os.getcwd()\n",
    "#os.chdir(\"C:\\\\Users\\\\Lenovo\\\\python\")\n",
    "#os.getcwd()"
   ]
  },
  {
   "cell_type": "code",
   "execution_count": 25,
   "id": "265d3511-9bdb-4d4e-8548-9e596423898a",
   "metadata": {},
   "outputs": [
    {
     "data": {
      "text/plain": [
       "'HII'"
      ]
     },
     "execution_count": 25,
     "metadata": {},
     "output_type": "execute_result"
    }
   ],
   "source": [
    "\n",
    "f=open('imraaaan.txt','w')\n",
    "f.write('HII')\n",
    "f=open('imraaaan.txt','r')\n",
    "f.read()\n"
   ]
  },
  {
   "cell_type": "code",
   "execution_count": 26,
   "id": "75f9fce2-e3e4-4dd1-a31f-f2ae6159e344",
   "metadata": {},
   "outputs": [
    {
     "data": {
      "text/plain": [
       "'C:\\\\Users\\\\Lenovo\\\\downloads'"
      ]
     },
     "execution_count": 26,
     "metadata": {},
     "output_type": "execute_result"
    }
   ],
   "source": [
    "import os\n",
    "os.getcwd()"
   ]
  },
  {
   "cell_type": "code",
   "execution_count": 34,
   "id": "f071666b-6069-41c4-9e52-303e1f3850e0",
   "metadata": {},
   "outputs": [
    {
     "data": {
      "text/plain": [
       "'C:\\\\Users\\\\Lenovo\\\\python'"
      ]
     },
     "execution_count": 34,
     "metadata": {},
     "output_type": "execute_result"
    }
   ],
   "source": [
    "import os\n",
    "f=open('imraaaan.txt','r')\n",
    "f.read()\n",
    "os.getcwd()\n",
    "os.chdir(\"C:\\\\Users\\\\Lenovo\\\\python\\\\\")\n",
    "os.getcwd()"
   ]
  },
  {
   "cell_type": "code",
   "execution_count": 35,
   "id": "c6c44985-c2d6-4ba7-ad41-61591dbd9038",
   "metadata": {},
   "outputs": [
    {
     "data": {
      "text/plain": [
       "'C:\\\\Users\\\\Lenovo\\\\python'"
      ]
     },
     "execution_count": 35,
     "metadata": {},
     "output_type": "execute_result"
    }
   ],
   "source": [
    "import os\n",
    "os.getcwd()"
   ]
  },
  {
   "cell_type": "code",
   "execution_count": 36,
   "id": "6c0007af-e35b-44bb-a623-3f7bdeb8a6df",
   "metadata": {},
   "outputs": [
    {
     "data": {
      "text/plain": [
       "['.ipynb_checkpoints',\n",
       " 'basic1.ipynb',\n",
       " 'controlflow3.ipynb',\n",
       " 'fun7.ipynb',\n",
       " 'imraaaan.txt',\n",
       " 'imran.txt',\n",
       " 'imran01.txt',\n",
       " 'imran1.txt',\n",
       " 'inputoutput2.ipynb',\n",
       " 'list4.ipynb',\n",
       " 'module8.ipynb',\n",
       " 'sample01.txt',\n",
       " 'set6.ipynb',\n",
       " 'tuple5.ipynb',\n",
       " 'Untitled.ipynb',\n",
       " 'Untitled1.ipynb',\n",
       " 'Untitled2.ipynb']"
      ]
     },
     "execution_count": 36,
     "metadata": {},
     "output_type": "execute_result"
    }
   ],
   "source": [
    "import os\n",
    "os.listdir(os.getcwd())"
   ]
  },
  {
   "cell_type": "code",
   "execution_count": null,
   "id": "ac6cf37e-dd7c-498c-9e00-c5fe86430938",
   "metadata": {},
   "outputs": [],
   "source": []
  },
  {
   "cell_type": "code",
   "execution_count": null,
   "id": "adc27117-cf19-4c6a-b17a-7b3cbc5d0e4c",
   "metadata": {},
   "outputs": [],
   "source": []
  }
 ],
 "metadata": {
  "kernelspec": {
   "display_name": "Python [conda env:base] *",
   "language": "python",
   "name": "conda-base-py"
  },
  "language_info": {
   "codemirror_mode": {
    "name": "ipython",
    "version": 3
   },
   "file_extension": ".py",
   "mimetype": "text/x-python",
   "name": "python",
   "nbconvert_exporter": "python",
   "pygments_lexer": "ipython3",
   "version": "3.13.5"
  }
 },
 "nbformat": 4,
 "nbformat_minor": 5
}
