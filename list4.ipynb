{
 "cells": [
  {
   "cell_type": "code",
   "execution_count": 2,
   "id": "508c7009-af69-41da-a496-9d45f6e4e591",
   "metadata": {},
   "outputs": [
    {
     "name": "stdout",
     "output_type": "stream",
     "text": [
      "['one', 'two', 'three', 'four']\n",
      "4\n",
      "['one', 'two', 'three', 'four', 'five']\n"
     ]
    }
   ],
   "source": [
    "#LIST\n",
    "lst=['one','two','three','four']\n",
    "print(lst)\n",
    "print(len(lst))\n",
    "lst.append('five')#append will add the item at end\n",
    "print(lst)\n"
   ]
  },
  {
   "cell_type": "code",
   "execution_count": 4,
   "id": "8a9a6c49-e308-4117-9837-3d96088d02b2",
   "metadata": {},
   "outputs": [
    {
     "name": "stdout",
     "output_type": "stream",
     "text": [
      "['one', 'two', 'three', 'four']\n",
      "['one', 'three', 'four']\n"
     ]
    }
   ],
   "source": [
    "#LST INSERT\n",
    "lst=['one','two','four']\n",
    "lst.insert(2,'three')\n",
    "print(lst)\n",
    "lst.remove('two')\n",
    "print(lst)#it will remove first occurence\n"
   ]
  },
  {
   "cell_type": "code",
   "execution_count": 35,
   "id": "cee98a92-df13-4498-98e3-e1e6dbeeccca",
   "metadata": {},
   "outputs": [
    {
     "name": "stdout",
     "output_type": "stream",
     "text": [
      "['one', 'two', 'three', 'four', ['five', 'six', 8]]\n",
      "['five', 'six', 8]\n",
      "['one', 'two', 'three', 'four', ['five', 'six', 8], 'five', 'six', 8]\n",
      "['five', 'six', 8]\n"
     ]
    }
   ],
   "source": [
    "#LST EXTEND and append\n",
    "lst=['one','two','three','four']\n",
    "lst1=['five','six',8]\n",
    "lst.append(lst1)\n",
    "print(lst)\n",
    "print(lst1)\n",
    "lst.extend(lst1)\n",
    "print(lst)\n",
    "print(lst1)"
   ]
  },
  {
   "cell_type": "code",
   "execution_count": 17,
   "id": "0c38cc93-350d-481d-a649-e6b63b119533",
   "metadata": {},
   "outputs": [
    {
     "name": "stdout",
     "output_type": "stream",
     "text": [
      "['one', 'two', 'three', 'four', 'five', 'six']\n",
      "['one', 'three', 'four', 'five', 'six']\n",
      "['one', 'three', 'four', 'six']\n",
      "AI\n"
     ]
    }
   ],
   "source": [
    "#LIST DELETE\n",
    "lst=['one','two','three','four','five','six']\n",
    "print(lst)\n",
    "del lst[1]\n",
    "print(lst)\n",
    "lst.remove('five')\n",
    "print(lst)\n",
    "if 'one' in lst:\n",
    "    print(\"AI\")\n",
    "if 'seven' in lst:\n",
    "    print(\"hii\")\n"
   ]
  },
  {
   "cell_type": "code",
   "execution_count": 21,
   "id": "cd133ee6-aa71-4d4d-b3f2-fe278fd5e73b",
   "metadata": {},
   "outputs": [
    {
     "name": "stdout",
     "output_type": "stream",
     "text": [
      "['six', 'five', 'four', 'three', 'two', 'one']\n"
     ]
    }
   ],
   "source": [
    "#LIST REVERSE\n",
    "lst=['one','two','three','four','five','six']\n",
    "lst.reverse()\n",
    "print(lst)"
   ]
  },
  {
   "cell_type": "code",
   "execution_count": 24,
   "id": "685f368c-a2e9-49e2-9542-13df86dbf331",
   "metadata": {},
   "outputs": [
    {
     "name": "stdout",
     "output_type": "stream",
     "text": [
      "[1, 5, 2, 6, 8]\n",
      "[1, 2, 5, 6, 8]\n",
      "[1, 4, 4, 6, 8, 9]\n"
     ]
    }
   ],
   "source": [
    "#LIST SORTING\n",
    "lst1=[1,5,2,6,8]\n",
    "print(lst1)\n",
    "sorted_lst=sorted(lst1)\n",
    "print(sorted_lst)\n",
    "lst2=[6,4,9,8,1,4]\n",
    "lst2.sort()\n",
    "print(lst2)"
   ]
  },
  {
   "cell_type": "code",
   "execution_count": 31,
   "id": "d8030292-e3e9-4208-8fe7-d87fa354abbe",
   "metadata": {},
   "outputs": [
    {
     "name": "stdout",
     "output_type": "stream",
     "text": [
      "['Ths', ' is', ' imran ']\n",
      "['This', 'is', 'applied', 'ai', 'course']\n"
     ]
    }
   ],
   "source": [
    "#split a sting to list\n",
    "s=\"Ths, is, imran \"\n",
    "lst=s.split(',')\n",
    "print(lst)\n",
    "a=\"This is applied ai course\"\n",
    "lst1=a.split()\n",
    "print(lst1)"
   ]
  },
  {
   "cell_type": "code",
   "execution_count": 34,
   "id": "f921b460-770c-49f8-b2bc-75ebadcea095",
   "metadata": {},
   "outputs": [
    {
     "name": "stdout",
     "output_type": "stream",
     "text": [
      "[10, 20, 30, 40, 50, 60, 70, 80]\n",
      "[10, 20, 30, 40]\n",
      "[40]\n",
      "[10, 40, 70]\n",
      "[]\n"
     ]
    }
   ],
   "source": [
    "#LIST SLICING\n",
    "lst=[10,20,30,40,50,60,70,80]\n",
    "print(lst[:])\n",
    "print(lst[0:4])\n",
    "print(lst[3:4])\n",
    "print(lst[:7:3])\n",
    "print(lst[4:3])"
   ]
  },
  {
   "cell_type": "code",
   "execution_count": 36,
   "id": "da3147fd-21d9-4000-9d40-0db740946204",
   "metadata": {},
   "outputs": [
    {
     "name": "stdout",
     "output_type": "stream",
     "text": [
      "3\n",
      "2\n"
     ]
    }
   ],
   "source": [
    "#List count\n",
    "lst=[10,20,30,10,20,60,10,80]\n",
    "print(lst.count(10))\n",
    "print(lst.count(20))"
   ]
  },
  {
   "cell_type": "code",
   "execution_count": 41,
   "id": "741bcb3d-1ba2-4410-992c-8999c3fd6f9d",
   "metadata": {},
   "outputs": [
    {
     "name": "stdout",
     "output_type": "stream",
     "text": [
      "one\n",
      "two\n",
      "three\n",
      "four\n",
      "5\n",
      "6\n",
      "hii\n",
      "one\n",
      "two\n",
      "three\n",
      "four\n",
      "5\n",
      "6\n"
     ]
    }
   ],
   "source": [
    "#List loop\n",
    "lst=['one','two','three','four',5,6]\n",
    "for i in range(0,6,1):\n",
    "    print(lst[i])\n",
    "print(\"hii\")  \n",
    "for ele in lst:\n",
    "    print(ele)"
   ]
  },
  {
   "cell_type": "code",
   "execution_count": 44,
   "id": "f749eb8a-2af2-466c-8e30-829512ac56bb",
   "metadata": {},
   "outputs": [
    {
     "name": "stdout",
     "output_type": "stream",
     "text": [
      "[0, 1, 4, 9, 16, 25, 36, 49, 64, 81]\n"
     ]
    }
   ],
   "source": [
    "#List comprehnesion\n",
    "lst=[]\n",
    "for i in range(10):\n",
    "    lst.append(i**2)\n",
    "   \n",
    "print(lst)\n",
    "    "
   ]
  },
  {
   "cell_type": "code",
   "execution_count": 47,
   "id": "273d7a47-ce62-4733-adc5-5162b466edac",
   "metadata": {},
   "outputs": [
    {
     "name": "stdout",
     "output_type": "stream",
     "text": [
      "[-20, -40, -60, -80, -100, -120]\n",
      "[2, 3]\n"
     ]
    }
   ],
   "source": [
    "lst=[-10,-20,-30,-40,-50,-60]\n",
    "new_lst=[i*2 for i in lst]\n",
    "print(new_lst)\n",
    "lst1=[-1,2,3,-5]\n",
    "newlst1=[i for i in lst1 if i>0 ]\n",
    "print(newlst1)"
   ]
  },
  {
   "cell_type": "code",
   "execution_count": null,
   "id": "97e69f11-5203-40f7-a6e9-3d9d04f513a1",
   "metadata": {},
   "outputs": [],
   "source": []
  }
 ],
 "metadata": {
  "kernelspec": {
   "display_name": "Python [conda env:base] *",
   "language": "python",
   "name": "conda-base-py"
  },
  "language_info": {
   "codemirror_mode": {
    "name": "ipython",
    "version": 3
   },
   "file_extension": ".py",
   "mimetype": "text/x-python",
   "name": "python",
   "nbconvert_exporter": "python",
   "pygments_lexer": "ipython3",
   "version": "3.13.5"
  }
 },
 "nbformat": 4,
 "nbformat_minor": 5
}
