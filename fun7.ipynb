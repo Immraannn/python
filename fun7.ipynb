{
 "cells": [
  {
   "cell_type": "code",
   "execution_count": 11,
   "id": "40fe1097-7b49-4ab2-b42e-7fb0fa93adc0",
   "metadata": {},
   "outputs": [
    {
     "name": "stdout",
     "output_type": "stream",
     "text": [
      "Hello imrAN\n",
      "\n",
      "this function print the name\n"
     ]
    }
   ],
   "source": [
    "#function\n",
    "def print_name(name):\n",
    "    \"\"\"\n",
    "    this function print the name\"\"\"\n",
    "    print(\"Hello\",name)\n",
    "print_name('imrAN') \n",
    "print(print_name.__doc__)"
   ]
  },
  {
   "cell_type": "code",
   "execution_count": 9,
   "id": "a481ef10-22a4-41bf-9605-0228d34db713",
   "metadata": {},
   "outputs": [
    {
     "name": "stdout",
     "output_type": "stream",
     "text": [
      "15\n",
      "20\n"
     ]
    }
   ],
   "source": [
    "def getsum(lst):\n",
    "    sum=0\n",
    "    for i in range(0,len(lst),1):\n",
    "        sum+=lst[i]\n",
    "    return sum\n",
    "list=[1,2,3,4,5]\n",
    "print(getsum(list))\n",
    "s=getsum([1,2,3,4,5,5])\n",
    "print(s)"
   ]
  },
  {
   "cell_type": "code",
   "execution_count": 12,
   "id": "dcb5ba99-73ad-45d3-828b-a820f4ec28e6",
   "metadata": {},
   "outputs": [
    {
     "name": "stdout",
     "output_type": "stream",
     "text": [
      "15\n",
      "None\n",
      "20\n",
      "None\n",
      "HII\n"
     ]
    }
   ],
   "source": [
    "# wrong method\n",
    "def getsum(lst):\n",
    "    sum=0\n",
    "    for i in range(0,len(lst),1):\n",
    "        sum+=lst[i]\n",
    "    print(sum)\n",
    "list=[1,2,3,4,5]\n",
    "print(getsum(list))\n",
    "s=getsum([1,2,3,4,5,5])\n",
    "print(s)\n",
    "print(\"HII\")"
   ]
  },
  {
   "cell_type": "code",
   "execution_count": 23,
   "id": "3089dc5d-cdd0-4216-a630-ef2d8da4ec58",
   "metadata": {},
   "outputs": [
    {
     "name": "stdout",
     "output_type": "stream",
     "text": [
      "1\n"
     ]
    }
   ],
   "source": [
    "def computehcf(a,b):\n",
    "    smaller =b if a>b else a\n",
    "    hcf=1\n",
    "    for i in range(1,smaller+1):\n",
    "        if(a%i==0) and (b%i==0):\n",
    "            hcf=i\n",
    "        return hcf\n",
    "num1=8\n",
    "num2=2\n",
    "print(computehcf(num1,num2))"
   ]
  },
  {
   "cell_type": "code",
   "execution_count": 29,
   "id": "66faf747-0572-41b4-ac3f-3ea08035dbbe",
   "metadata": {},
   "outputs": [
    {
     "name": "stdout",
     "output_type": "stream",
     "text": [
      "120\n",
      "24\n"
     ]
    }
   ],
   "source": [
    "def factorial(a):\n",
    "    if a==1:\n",
    "        return 1\n",
    "    else:\n",
    "        return a*factorial(a-1)\n",
    "s=factorial(5)\n",
    "print(s)\n",
    "print(factorial(4))"
   ]
  },
  {
   "cell_type": "code",
   "execution_count": null,
   "id": "4cfea1fd-9795-4501-b46d-6e6f3c89e5c7",
   "metadata": {},
   "outputs": [],
   "source": []
  }
 ],
 "metadata": {
  "kernelspec": {
   "display_name": "Python [conda env:base] *",
   "language": "python",
   "name": "conda-base-py"
  },
  "language_info": {
   "codemirror_mode": {
    "name": "ipython",
    "version": 3
   },
   "file_extension": ".py",
   "mimetype": "text/x-python",
   "name": "python",
   "nbconvert_exporter": "python",
   "pygments_lexer": "ipython3",
   "version": "3.13.5"
  }
 },
 "nbformat": 4,
 "nbformat_minor": 5
}
