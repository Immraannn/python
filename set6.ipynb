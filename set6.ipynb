{
 "cells": [
  {
   "cell_type": "code",
   "execution_count": 10,
   "id": "b16c39eb-f6a2-4e44-8d9f-c77134e73d08",
   "metadata": {},
   "outputs": [
    {
     "name": "stdout",
     "output_type": "stream",
     "text": [
      "{1, 2, 3, 4}\n",
      "<class 'set'>\n",
      "{1, 2, 3, 4, 5}\n",
      "{1, 2, 3, 4, 5, 'imran', 7, 8, 6}\n",
      "{5, 'imran', 7, 8, 6}\n",
      "set()\n"
     ]
    }
   ],
   "source": [
    "s={1,2,3,4,1}\n",
    "print(s)\n",
    "print(type(s))\n",
    "s.add(5)#single element add\n",
    "print(s)\n",
    "s.update({5,6,7,'imran',8})\n",
    "print(s)\n",
    "s.discard(2)#it will not  give error if element is not there\n",
    "s.remove(3)#it will give error if element is not there\n",
    "s.discard(1)\n",
    "s.pop()#remove random element\n",
    "print(s)\n",
    "s.clear()#removve all element from set\n",
    "print(s)"
   ]
  },
  {
   "cell_type": "code",
   "execution_count": 19,
   "id": "e919ecd1-e6ce-4f66-aac0-b2372754f33f",
   "metadata": {},
   "outputs": [
    {
     "name": "stdout",
     "output_type": "stream",
     "text": [
      "{1, 2, 3, 4, 5, 6, 7, 8, 9}\n",
      "{1, 2, 3, 4, 5}\n",
      "set()\n",
      "True\n"
     ]
    }
   ],
   "source": [
    "#set operation\n",
    "set1={1,2,3,4,5}\n",
    "set2={6,7,8,9,2,1,2,3,4,5}\n",
    "print(set1 | set2) #union\n",
    "print(set1 & set2)#intersection\n",
    "print(set1-set2)\n",
    "print(set1.issubset(set2))"
   ]
  },
  {
   "cell_type": "code",
   "execution_count": null,
   "id": "e689ef31-d0ad-405e-93b5-d5e9b1b5b112",
   "metadata": {},
   "outputs": [],
   "source": []
  },
  {
   "cell_type": "code",
   "execution_count": null,
   "id": "2521f471-6962-4133-b32c-616b8292fe07",
   "metadata": {},
   "outputs": [],
   "source": []
  }
 ],
 "metadata": {
  "kernelspec": {
   "display_name": "Python [conda env:base] *",
   "language": "python",
   "name": "conda-base-py"
  },
  "language_info": {
   "codemirror_mode": {
    "name": "ipython",
    "version": 3
   },
   "file_extension": ".py",
   "mimetype": "text/x-python",
   "name": "python",
   "nbconvert_exporter": "python",
   "pygments_lexer": "ipython3",
   "version": "3.13.5"
  }
 },
 "nbformat": 4,
 "nbformat_minor": 5
}
