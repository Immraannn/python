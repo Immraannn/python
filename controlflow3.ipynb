{
 "cells": [
  {
   "cell_type": "code",
   "execution_count": 1,
   "id": "0ff51b8f-744a-4d00-9829-43476108523f",
   "metadata": {},
   "outputs": [
    {
     "name": "stdout",
     "output_type": "stream",
     "text": [
      "Negative number\n",
      "Always print\n"
     ]
    }
   ],
   "source": [
    "#if else\n",
    "num=-3\n",
    "if num>0:\n",
    "    print(\"Number is positive\")\n",
    "elif num==0:\n",
    "    print(\"Zero\")\n",
    "else:\n",
    "    print(\"Negative number\")\n",
    "print(\"Always print\")   "
   ]
  },
  {
   "cell_type": "code",
   "execution_count": 2,
   "id": "27066fac-ec38-4552-9306-254b7cc2891c",
   "metadata": {},
   "outputs": [
    {
     "name": "stdout",
     "output_type": "stream",
     "text": [
      "Prod is : 120\n"
     ]
    }
   ],
   "source": [
    "lst=[1,2,3,4,5]\n",
    "prod=1\n",
    "index=0\n",
    "while index < len(lst):\n",
    "    prod*=lst[index]\n",
    "    index+=1\n",
    "print(\"Prod is : {}\".format(prod))"
   ]
  },
  {
   "cell_type": "code",
   "execution_count": 4,
   "id": "b5ad7c21-db98-4a24-a16e-74d1563c9f0c",
   "metadata": {},
   "outputs": [
    {
     "name": "stdout",
     "output_type": "stream",
     "text": [
      "Prod is : 120\n",
      "always\n"
     ]
    }
   ],
   "source": [
    "lst=[1,2,3,4,5]\n",
    "prod=1\n",
    "index=0\n",
    "for i in lst:\n",
    "    prod*=i\n",
    "print(\"Prod is : {}\".format(prod))\n",
    "print(\"always\")"
   ]
  },
  {
   "cell_type": "code",
   "execution_count": 7,
   "id": "f92b95ea-9f9c-45a2-8b01-96570bb7059a",
   "metadata": {},
   "outputs": [
    {
     "name": "stdout",
     "output_type": "stream",
     "text": [
      "0\n",
      "1\n",
      "2\n",
      "3\n",
      "4\n",
      "5\n",
      "6\n",
      "7\n",
      "8\n",
      "9\n"
     ]
    }
   ],
   "source": [
    "for i in range (10):\n",
    "    print(i)"
   ]
  },
  {
   "cell_type": "code",
   "execution_count": 8,
   "id": "9a23f53b-d60a-4380-a703-c658335451b3",
   "metadata": {},
   "outputs": [
    {
     "name": "stdout",
     "output_type": "stream",
     "text": [
      "1\n",
      "4\n",
      "7\n",
      "10\n",
      "13\n",
      "16\n",
      "19\n"
     ]
    }
   ],
   "source": [
    "for i in range(1,20,3):#(start,end,start)\n",
    "    print(i)"
   ]
  },
  {
   "cell_type": "code",
   "execution_count": 11,
   "id": "9c23b130-5cad-4208-8ab6-6f19afe3c509",
   "metadata": {},
   "outputs": [
    {
     "name": "stdout",
     "output_type": "stream",
     "text": [
      "imran\n",
      "rehan\n",
      "rizwan\n",
      "faizan\n"
     ]
    }
   ],
   "source": [
    "lst=['imran','rehan','rizwan','faizan']\n",
    "for ele in lst:\n",
    "    print(ele)"
   ]
  },
  {
   "cell_type": "code",
   "execution_count": 14,
   "id": "fddcb14e-8e21-459c-bcaf-75d92f481194",
   "metadata": {},
   "outputs": [
    {
     "name": "stdout",
     "output_type": "stream",
     "text": [
      "imran\n",
      "rehan\n",
      "rizwan\n",
      "faizan\n"
     ]
    }
   ],
   "source": [
    "lst=['imran','rehan','rizwan','faizan']\n",
    "for index in range (len(lst)):\n",
    "    print(lst[index])"
   ]
  },
  {
   "cell_type": "code",
   "execution_count": 16,
   "id": "314b0fb8-90a5-4b55-9109-f744874b60da",
   "metadata": {},
   "outputs": [
    {
     "name": "stdout",
     "output_type": "stream",
     "text": [
      "1\n",
      "2\n",
      "3\n",
      "4\n",
      "5\n"
     ]
    }
   ],
   "source": [
    "number=[1,2,3,4,5]\n",
    "for item in number:\n",
    "    print(item)"
   ]
  },
  {
   "cell_type": "code",
   "execution_count": 19,
   "id": "fd7aa509-5c57-4ddd-b6f4-72e98620ffb0",
   "metadata": {},
   "outputs": [
    {
     "name": "stdout",
     "output_type": "stream",
     "text": [
      "1\n",
      "3\n",
      "5\n",
      "else bolck\n"
     ]
    }
   ],
   "source": [
    "#continue\n",
    "num=[1,2,3,4,5,6,7]\n",
    "for i in range(0,6,1):\n",
    "    if  num[i]%2 !=0:\n",
    "        print(num[i])\n",
    "    else:\n",
    "        continue\n",
    "else:\n",
    "    print(\"else bolck\")\n",
    "    \n",
    "        "
   ]
  },
  {
   "cell_type": "code",
   "execution_count": null,
   "id": "dfe83d2f-4288-4df0-a1e1-c001ab7f9a7b",
   "metadata": {},
   "outputs": [],
   "source": []
  },
  {
   "cell_type": "code",
   "execution_count": null,
   "id": "810dbb71-ebf8-46d5-a0c5-9343d67f0eb7",
   "metadata": {},
   "outputs": [],
   "source": []
  }
 ],
 "metadata": {
  "kernelspec": {
   "display_name": "Python [conda env:base] *",
   "language": "python",
   "name": "conda-base-py"
  },
  "language_info": {
   "codemirror_mode": {
    "name": "ipython",
    "version": 3
   },
   "file_extension": ".py",
   "mimetype": "text/x-python",
   "name": "python",
   "nbconvert_exporter": "python",
   "pygments_lexer": "ipython3",
   "version": "3.13.5"
  }
 },
 "nbformat": 4,
 "nbformat_minor": 5
}
