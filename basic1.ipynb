{
 "cells": [
  {
   "cell_type": "code",
   "execution_count": 19,
   "id": "e75d0181-bc83-4e44-b3ea-a7c997275ced",
   "metadata": {},
   "outputs": [
    {
     "name": "stdout",
     "output_type": "stream",
     "text": [
      "140709070615592\n",
      "5 is type of  <class 'int'>\n"
     ]
    }
   ],
   "source": [
    "a=5\n",
    "print(id(a))\n",
    "print(a,\"is type of \",type(a))"
   ]
  },
  {
   "cell_type": "code",
   "execution_count": 31,
   "id": "403c3528-7c44-4d8f-a500-e8f1c9657ca5",
   "metadata": {},
   "outputs": [
    {
     "name": "stdout",
     "output_type": "stream",
     "text": [
      "This is an online course is type of  <class 'str'>\n",
      "T h\n",
      "This is an online course\n",
      "s\n",
      "hii\n",
      "This is an online course\n"
     ]
    }
   ],
   "source": [
    "#STRING\n",
    "s=\"This is an online course\"\n",
    "print(s,\"is type of \",type(s))\n",
    "print(s[0],s[1])\n",
    "print(s)\n",
    "print(s[-2])\n",
    "print(\"hii\")\n",
    "s[5:]\n",
    "s[:8]\n",
    "s[1:8:2]\n",
    "print(s)\n"
   ]
  },
  {
   "cell_type": "code",
   "execution_count": 24,
   "id": "8aa5ac80-43d0-4e22-b2d7-5af227f755b2",
   "metadata": {},
   "outputs": [
    {
     "name": "stdout",
     "output_type": "stream",
     "text": [
      "[1, 20, 8, 'hii', 'hello']\n",
      "1 hii hii\n",
      "[1, 10, 8, 'hii', 'hello']\n"
     ]
    }
   ],
   "source": [
    "#LIST\n",
    "#defined by[]\n",
    "a=[1,20,8,\"hii\",'hello']\n",
    "print(a)\n",
    "print(a[0],a[3],a[-2])\n",
    "a[1]=10\n",
    "print(a)\n",
    "#LIST ARE MUTABLE"
   ]
  },
  {
   "cell_type": "code",
   "execution_count": 28,
   "id": "6ef5dc62-b08a-487f-86e2-015823aaa548",
   "metadata": {},
   "outputs": [
    {
     "name": "stdout",
     "output_type": "stream",
     "text": [
      "(1, 2, 'ML', 'Hii')\n",
      "ML 2\n",
      "(1, 2, 'ML', 'Hii')\n"
     ]
    }
   ],
   "source": [
    "#TUPLE\n",
    "#tuple,list,string these all are ordered seuence\n",
    "#tuple is inmutble\n",
    "#defined by()\n",
    "a=(1,2,\"ML\",'Hii')\n",
    "print(a)\n",
    "print(a[-2],a[1])\n",
    "print(a)"
   ]
  },
  {
   "cell_type": "code",
   "execution_count": 34,
   "id": "a17a1392-ba3d-4c98-b25e-df9f8b01a666",
   "metadata": {},
   "outputs": [
    {
     "name": "stdout",
     "output_type": "stream",
     "text": [
      "{1, 2, 3, 4, 'Hii'}\n"
     ]
    }
   ],
   "source": [
    "#SET\n",
    "#{}\n",
    "a={1,2,3,4,\"Hii\"}\n",
    "print(a)\n",
    "#'set' object is not subscriptable as unordered collection"
   ]
  },
  {
   "cell_type": "code",
   "execution_count": 36,
   "id": "dc89a54a-2519-44c2-af3e-1fd1dff87c9d",
   "metadata": {},
   "outputs": [
    {
     "name": "stdout",
     "output_type": "stream",
     "text": [
      "{1: 'apple', 2: 3, 'a': 3, 3: 'mango'}\n",
      "apple 3\n"
     ]
    }
   ],
   "source": [
    "#Dictionary\n",
    "#defined by{}\n",
    "d={1:'apple',2:3,'a':3,3:'mango'}\n",
    "print(d)\n",
    "print(d[1],d[2])"
   ]
  },
  {
   "cell_type": "code",
   "execution_count": 43,
   "id": "b97aae1e-3919-4e8e-9033-cf19e921c5b2",
   "metadata": {},
   "outputs": [
    {
     "name": "stdout",
     "output_type": "stream",
     "text": [
      "congratulation,Imran you write + 100lines of code\n"
     ]
    },
    {
     "data": {
      "text/plain": [
       "['i', 'm', 'r', 'a', 'n']"
      ]
     },
     "execution_count": 43,
     "metadata": {},
     "output_type": "execute_result"
    }
   ],
   "source": [
    "user=\"Imran\"\n",
    "lines=100\n",
    "print(\"congratulation,\"+user+ \" you write + \"+str(lines) +\"lines of code\")\n",
    "list('imran')"
   ]
  },
  {
   "cell_type": "code",
   "execution_count": null,
   "id": "1ba8dbba-413f-4a9a-a0f5-b76fd8a6252d",
   "metadata": {},
   "outputs": [],
   "source": []
  }
 ],
 "metadata": {
  "kernelspec": {
   "display_name": "Python [conda env:base] *",
   "language": "python",
   "name": "conda-base-py"
  },
  "language_info": {
   "codemirror_mode": {
    "name": "ipython",
    "version": 3
   },
   "file_extension": ".py",
   "mimetype": "text/x-python",
   "name": "python",
   "nbconvert_exporter": "python",
   "pygments_lexer": "ipython3",
   "version": "3.13.5"
  }
 },
 "nbformat": 4,
 "nbformat_minor": 5
}
