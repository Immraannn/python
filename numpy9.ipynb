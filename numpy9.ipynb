{
 "cells": [
  {
   "cell_type": "code",
   "execution_count": 15,
   "id": "c639428d-e16f-4fcd-bc19-d7263399d01f",
   "metadata": {},
   "outputs": [
    {
     "name": "stdout",
     "output_type": "stream",
     "text": [
      "[1 2 3 4]\n",
      "[0 1 2 3 4 5]\n",
      "1\n",
      "(4,)\n"
     ]
    },
    {
     "data": {
      "text/plain": [
       "4"
      ]
     },
     "execution_count": 15,
     "metadata": {},
     "output_type": "execute_result"
    }
   ],
   "source": [
    "import numpy as np\n",
    "a=np.array([1,2,3,4])\n",
    "print(a)\n",
    "b\n",
    "print (b)\n",
    "print(a.ndim)\n",
    "print (a.shape)\n",
    "len(a)"
   ]
  },
  {
   "cell_type": "code",
   "execution_count": 16,
   "id": "2952c1fa-3da5-4ee6-8421-6de6dfd744b9",
   "metadata": {},
   "outputs": [
    {
     "data": {
      "text/plain": [
       "array([[1, 2, 3, 4],\n",
       "       [5, 6, 7, 8]])"
      ]
     },
     "execution_count": 16,
     "metadata": {},
     "output_type": "execute_result"
    }
   ],
   "source": [
    "import numpy as np\n",
    "b=np.array([[1,2,3,4],[5,6,7,8]])\n",
    "b"
   ]
  },
  {
   "cell_type": "code",
   "execution_count": 6,
   "id": "c76bc715-1c20-45fc-8b8b-36b0177edc7f",
   "metadata": {},
   "outputs": [
    {
     "name": "stdout",
     "output_type": "stream",
     "text": [
      "[[[0 1 3]\n",
      "  [2 3 4]]\n",
      "\n",
      " [[4 5 8]\n",
      "  [6 7 9]]]\n",
      "3\n",
      "(2, 2, 3)\n"
     ]
    },
    {
     "data": {
      "text/plain": [
       "2"
      ]
     },
     "execution_count": 6,
     "metadata": {},
     "output_type": "execute_result"
    }
   ],
   "source": [
    "import numpy as np\n",
    "c=np.array([[[0,1,3],[2,3,4]],[[4,5,8],[6,7,9]]])\n",
    "print(c)\n",
    "print(c.ndim)\n",
    "print(c.shape)\n",
    "len(c)"
   ]
  },
  {
   "cell_type": "code",
   "execution_count": 11,
   "id": "cd308586-2902-4731-bd95-7eda8afe4ab9",
   "metadata": {},
   "outputs": [
    {
     "name": "stdout",
     "output_type": "stream",
     "text": [
      "[0.  0.4 0.8 1.2 1.6 2. ]\n",
      "[[1. 1. 1.]\n",
      " [1. 1. 1.]\n",
      " [1. 1. 1.]]\n",
      "[[1. 0. 0.]\n",
      " [0. 1. 0.]\n",
      " [0. 0. 1.]]\n",
      "[[1. 0.]\n",
      " [0. 1.]\n",
      " [0. 0.]]\n",
      "[[1 0 0 0]\n",
      " [0 2 0 0]\n",
      " [0 0 3 0]\n",
      " [0 0 0 4]]\n",
      "[0.1052862  0.65261265 0.58242471 0.20414628]\n",
      "[0.74064264 1.5929544  0.1510043  0.51123637]\n"
     ]
    }
   ],
   "source": [
    "import numpy as np\n",
    "a=np.linspace(0,2,6)#start,end,gap\n",
    "b=np.ones((3,3))\n",
    "c=np.eye(3)\n",
    "d=np.eye(3,2)#row,col\n",
    "e=np.diag((1,2,3,4))\n",
    "f=np.random.rand(4)\n",
    "g=np.random.randn(4)\n",
    "print(a)\n",
    "print(b)\n",
    "print(c)\n",
    "print(d)\n",
    "print(e)\n",
    "print(f)\n",
    "print(g)"
   ]
  },
  {
   "cell_type": "code",
   "execution_count": 21,
   "id": "632f9c09-f938-4beb-8306-6db8fb23b4c4",
   "metadata": {},
   "outputs": [
    {
     "name": "stdout",
     "output_type": "stream",
     "text": [
      "5\n",
      "3\n",
      "0\n",
      "[2 3 4]\n",
      "[ 0  1  2  3  4 10 10 10  8  9]\n"
     ]
    }
   ],
   "source": [
    "import numpy as np\n",
    "a=np.arange(10)\n",
    "c=np.arange(10)\n",
    "print(a[5])\n",
    "b=np.diag([1,2,3])\n",
    "print(b[2,2])\n",
    "print(b[1,2])\n",
    "print(a[2:5:1])\n",
    "a[5:8]=10\n",
    "print(a)\n"
   ]
  },
  {
   "cell_type": "code",
   "execution_count": 24,
   "id": "54e26f33-189d-4063-beb7-3028eb43dd9c",
   "metadata": {},
   "outputs": [
    {
     "name": "stdout",
     "output_type": "stream",
     "text": [
      "[0 1 2 3 4 4 3 2 1 0]\n"
     ]
    }
   ],
   "source": [
    "import numpy as np\n",
    "a=np.arange(10)\n",
    "b=np.arange(5)\n",
    "a[5:]=b[::-1]\n",
    "print(a)"
   ]
  },
  {
   "cell_type": "code",
   "execution_count": 28,
   "id": "9041303f-755f-4071-a74a-5eabe605c404",
   "metadata": {},
   "outputs": [
    {
     "name": "stdout",
     "output_type": "stream",
     "text": [
      "[0 2 4 6 8]\n",
      "[10  2  4  6  8]\n"
     ]
    }
   ],
   "source": [
    "import numpy as np\n",
    "a=np.arange(10)\n",
    "b=np.arange(5)\n",
    "b=a[::2]\n",
    "b\n",
    "print(b)\n",
    "b[0]=10\n",
    "print(b)"
   ]
  },
  {
   "cell_type": "code",
   "execution_count": 3,
   "id": "ed743a51-6896-47a9-b295-b4c84c28356f",
   "metadata": {},
   "outputs": [
    {
     "name": "stdout",
     "output_type": "stream",
     "text": [
      "[0 2 4 6 8]\n",
      "[0 1 2 3 4 5 6 7 8 9]\n",
      "[10  2  4  6  8]\n"
     ]
    }
   ],
   "source": [
    "import numpy as np\n",
    "a=np.arange(10)\n",
    "b=a[::2].copy()\n",
    "print(b)\n",
    "b[0]=10\n",
    "print(a)\n",
    "print(b)"
   ]
  },
  {
   "cell_type": "code",
   "execution_count": 8,
   "id": "eaea1854-3e73-4e78-aeb0-afc29b4a1354",
   "metadata": {},
   "outputs": [
    {
     "name": "stdout",
     "output_type": "stream",
     "text": [
      "[12  7 18  2  5 19  6 10  9 12 15 13 16  8 18]\n",
      "[12 18  2  6 10 12 16  8 18]\n",
      "[-1  7 -1 -1  5 19 -1 -1  9 -1 15 13 -1 -1 -1]\n"
     ]
    }
   ],
   "source": [
    "import numpy as np\n",
    "a=np.random.randint(0,20,15)\n",
    "print(a)\n",
    "mask=(a%2==0)\n",
    "extract_from_a=a[mask]\n",
    "print(extract_from_a)\n",
    "a[mask]=-1\n",
    "print(a)\n"
   ]
  },
  {
   "cell_type": "code",
   "execution_count": 14,
   "id": "77d64df1-4237-4403-9059-1ba0550ac73b",
   "metadata": {},
   "outputs": [
    {
     "name": "stdout",
     "output_type": "stream",
     "text": [
      "[ 0  3  6  9 12 15 18]\n",
      "[ 0 20 40 60 80]\n"
     ]
    }
   ],
   "source": [
    "import numpy as np\n",
    "a=np.arange(0,100,20)\n",
    "b=np.arange(0,20,3)\n",
    "print(b)\n",
    "print(a)\n"
   ]
  },
  {
   "cell_type": "code",
   "execution_count": 3,
   "id": "1e265238-85f3-48f7-b50e-bfed406613e6",
   "metadata": {},
   "outputs": [
    {
     "data": {
      "text/plain": [
       "array([ 1,  4,  9, 16])"
      ]
     },
     "execution_count": 3,
     "metadata": {},
     "output_type": "execute_result"
    }
   ],
   "source": [
    "import numpy as np\n",
    "a=np.array([1,2,3,4])\n",
    "a**2\n"
   ]
  },
  {
   "cell_type": "code",
   "execution_count": 4,
   "id": "4169425e-8408-4e6c-accb-ec5e9fcb65f2",
   "metadata": {},
   "outputs": [
    {
     "data": {
      "text/plain": [
       "array([ 2,  6, 12, 20])"
      ]
     },
     "execution_count": 4,
     "metadata": {},
     "output_type": "execute_result"
    }
   ],
   "source": [
    "import numpy as np\n",
    "a=np.array([1,2,3,4])\n",
    "b=np.array([2,3,4,5])\n",
    "a*b"
   ]
  },
  {
   "cell_type": "code",
   "execution_count": 5,
   "id": "0a3d689c-b4d0-45b5-a151-461750da74a5",
   "metadata": {},
   "outputs": [
    {
     "name": "stdout",
     "output_type": "stream",
     "text": [
      "[[ 1  0  0  0]\n",
      " [ 0  4  0  0]\n",
      " [ 0  0  9  0]\n",
      " [ 0  0  0 16]]\n"
     ]
    }
   ],
   "source": [
    "import numpy as np\n",
    "a=np.diag([1,2,3,4])\n",
    "print(a*a)\n",
    "\n",
    "\n"
   ]
  },
  {
   "cell_type": "code",
   "execution_count": 9,
   "id": "e36de9fc-8b48-45d8-b6e4-895c1906990f",
   "metadata": {},
   "outputs": [
    {
     "name": "stdout",
     "output_type": "stream",
     "text": [
      "[ True  True  True False]\n"
     ]
    },
    {
     "data": {
      "text/plain": [
       "array([False, False, False, False])"
      ]
     },
     "execution_count": 9,
     "metadata": {},
     "output_type": "execute_result"
    }
   ],
   "source": [
    "import numpy as np\n",
    "a=np.array([1,2,3,4])\n",
    "b=np.array([1,2,3,5])\n",
    "print(a==b\n",
    "a>b"
   ]
  },
  {
   "cell_type": "code",
   "execution_count": 12,
   "id": "5eabf0c6-5fb5-44c7-acfa-c9000919a9c2",
   "metadata": {},
   "outputs": [
    {
     "name": "stdout",
     "output_type": "stream",
     "text": [
      "[1.38629436 0.         0.69314718 1.09861229 1.38629436]\n"
     ]
    },
    {
     "data": {
      "text/plain": [
       "array([-0.7568025 ,  0.84147098,  0.90929743,  0.14112001, -0.7568025 ])"
      ]
     },
     "execution_count": 12,
     "metadata": {},
     "output_type": "execute_result"
    }
   ],
   "source": [
    "import numpy as np\n",
    "a=np.array([4,1,2,3,4])\n",
    "print(np.log(a))\n",
    "np.sin(a)"
   ]
  },
  {
   "cell_type": "code",
   "execution_count": 18,
   "id": "55647d99-d4da-49cf-b5d3-9fc660216ed7",
   "metadata": {},
   "outputs": [
    {
     "name": "stdout",
     "output_type": "stream",
     "text": [
      "10\n",
      "1\n",
      "4\n",
      "0\n"
     ]
    }
   ],
   "source": [
    "import numpy as np\n",
    "a=np.array([1,2,3,4])\n",
    "print(sum(a))\n",
    "print(min(a))\n",
    "print(max(a))\n",
    "print(a.argmin())#min index"
   ]
  },
  {
   "cell_type": "code",
   "execution_count": 21,
   "id": "77f023c0-bdf7-4ada-b81c-4012e26d4697",
   "metadata": {},
   "outputs": [
    {
     "name": "stdout",
     "output_type": "stream",
     "text": [
      "[4 6]\n",
      "[3 7]\n"
     ]
    }
   ],
   "source": [
    "import numpy as np\n",
    "a=np.array([[1,2],[3,4]])\n",
    "print(a.sum(axis=0))#column wise\n",
    "print(a.sum(axis=1))#row wise"
   ]
  },
  {
   "cell_type": "code",
   "execution_count": 29,
   "id": "6c7102bc-16f2-4f6c-b45c-1f7792aaf89b",
   "metadata": {},
   "outputs": [
    {
     "name": "stdout",
     "output_type": "stream",
     "text": [
      "1\n",
      "1.118033988749895\n",
      "2.5\n",
      "3.5\n",
      "[2.5 3.5 4.5]\n"
     ]
    }
   ],
   "source": [
    "import numpy as np\n",
    "x=np.array([1,2,3,4])\n",
    "y=np.array([[1,2,3],[4,5,6]])\n",
    "print(x.min())\n",
    "print(x.std())\n",
    "print(np.median(x))\n",
    "print(np.median(y))\n",
    "print(np.median(y,axis=0))"
   ]
  },
  {
   "cell_type": "code",
   "execution_count": 37,
   "id": "12580053-b3d5-4025-b49f-1286e6dd817f",
   "metadata": {},
   "outputs": [
    {
     "name": "stdout",
     "output_type": "stream",
     "text": [
      "[1 2 4 5]\n",
      "[[1 2]\n",
      " [4 5]]\n",
      "[[1 4]\n",
      " [2 5]]\n",
      "[1 2 3 4]\n"
     ]
    }
   ],
   "source": [
    "#array flattening\n",
    "import numpy as np\n",
    "x=np.array([[1,2],[4,5]])\n",
    "print(x.ravel())\n",
    "print(x)\n",
    "print(x.T)\n",
    "y=a.ravel()\n",
    "print(y)"
   ]
  },
  {
   "cell_type": "code",
   "execution_count": 42,
   "id": "af8ac382-429d-4c69-b2e6-143e6356e24a",
   "metadata": {},
   "outputs": [
    {
     "name": "stdout",
     "output_type": "stream",
     "text": [
      "[[ 1  4 25]\n",
      " [ 4  5  8]]\n",
      "[[ 4  4  1]\n",
      " [ 8 25  5]]\n"
     ]
    }
   ],
   "source": [
    "import numpy as np\n",
    "x=np.array([[4,25,1],[8,4,5]])\n",
    "b=np.sort(x)\n",
    "c=np.sort(x,axis=0)#row wise\n",
    "print(b)\n",
    "print(c)"
   ]
  },
  {
   "cell_type": "code",
   "execution_count": 48,
   "id": "d60fc87f-199e-44c9-9c5c-81ba8d848316",
   "metadata": {},
   "outputs": [
    {
     "name": "stdout",
     "output_type": "stream",
     "text": [
      "[[2 0 1]\n",
      " [1 2 0]]\n",
      "[2 0 3 1]\n"
     ]
    },
    {
     "data": {
      "text/plain": [
       "array([0, 1, 2, 5])"
      ]
     },
     "execution_count": 48,
     "metadata": {},
     "output_type": "execute_result"
    }
   ],
   "source": [
    "import numpy as np\n",
    "x=np.array([[4,25,1],[8,4,5]])\n",
    "y=np.array([1,5,0,2])\n",
    "j=np.argsort(x)\n",
    "k=np.argsort(y)\n",
    "print(j)\n",
    "print(k)\n",
    "y[k]"
   ]
  },
  {
   "cell_type": "code",
   "execution_count": null,
   "id": "72e84b6f-0cb3-44a4-98b6-2fd0d2cbb842",
   "metadata": {},
   "outputs": [],
   "source": []
  }
 ],
 "metadata": {
  "kernelspec": {
   "display_name": "Python [conda env:base] *",
   "language": "python",
   "name": "conda-base-py"
  },
  "language_info": {
   "codemirror_mode": {
    "name": "ipython",
    "version": 3
   },
   "file_extension": ".py",
   "mimetype": "text/x-python",
   "name": "python",
   "nbconvert_exporter": "python",
   "pygments_lexer": "ipython3",
   "version": "3.13.5"
  }
 },
 "nbformat": 4,
 "nbformat_minor": 5
}
