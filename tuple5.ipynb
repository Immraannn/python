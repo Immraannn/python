{
 "cells": [
  {
   "cell_type": "code",
   "execution_count": 19,
   "id": "86909e9d-df66-43c4-95a5-87a4a1cdf6f5",
   "metadata": {},
   "outputs": [
    {
     "name": "stdout",
     "output_type": "stream",
     "text": [
      "rehan\n",
      "(3, 5, 7)\n",
      "('imran', 5, 'imran', 5, 'imran', 5, 'imran', 5)\n",
      "HII\n",
      "a\n",
      "7\n",
      "8\n",
      "[-2, -1, 3, 4, 5, 9]\n",
      "9\n",
      "-2\n",
      "18\n"
     ]
    }
   ],
   "source": [
    "#tuple\n",
    "t=('imran','rehan',5,8)\n",
    "type(t)\n",
    "print(t[-3])\n",
    "tu=(1,2,3,1,5,6,7,'a')\n",
    "print(tu[2:7:2])\n",
    "#TUPLES ELEMENT ARE INMUTABLE\n",
    "p=(('imran',5,)*4)\n",
    "print(p)\n",
    "del(p)\n",
    "#tuple p is deleted\n",
    "#tuple count\n",
    "print(\"HII\")\n",
    "tu.count(1)\n",
    "print(tu[7])\n",
    "print(tu.index('a'))\n",
    "print(len(tu))\n",
    "z=(3,-1,5,9,-2,4)\n",
    "z1=sorted(z)\n",
    "print(z1)\n",
    "print(max(z))\n",
    "print(min(z))\n",
    "print(sum(z))"
   ]
  },
  {
   "cell_type": "code",
   "execution_count": null,
   "id": "3ee878ed-c64a-48a0-bc24-e25aeec2ae43",
   "metadata": {},
   "outputs": [],
   "source": []
  }
 ],
 "metadata": {
  "kernelspec": {
   "display_name": "Python [conda env:base] *",
   "language": "python",
   "name": "conda-base-py"
  },
  "language_info": {
   "codemirror_mode": {
    "name": "ipython",
    "version": 3
   },
   "file_extension": ".py",
   "mimetype": "text/x-python",
   "name": "python",
   "nbconvert_exporter": "python",
   "pygments_lexer": "ipython3",
   "version": "3.13.5"
  }
 },
 "nbformat": 4,
 "nbformat_minor": 5
}
